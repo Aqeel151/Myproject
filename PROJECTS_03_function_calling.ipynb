{
  "nbformat": 4,
  "nbformat_minor": 0,
  "metadata": {
    "colab": {
      "provenance": [],
      "authorship_tag": "ABX9TyPbpYlzeon3yQHd/DiUgdkw",
      "include_colab_link": true
    },
    "kernelspec": {
      "name": "python3",
      "display_name": "Python 3"
    },
    "language_info": {
      "name": "python"
    }
  },
  "cells": [
    {
      "cell_type": "markdown",
      "metadata": {
        "id": "view-in-github",
        "colab_type": "text"
      },
      "source": [
        "<a href=\"https://colab.research.google.com/github/Aqeel151/Myproject/blob/master/PROJECTS_03_function_calling.ipynb\" target=\"_parent\"><img src=\"https://colab.research.google.com/assets/colab-badge.svg\" alt=\"Open In Colab\"/></a>"
      ]
    },
    {
      "cell_type": "code",
      "execution_count": 14,
      "metadata": {
        "id": "CjL23fDb0UOi"
      },
      "outputs": [],
      "source": [
        "!pip install -qU langchain langchain-google-genai google-generativeai python-dotenv"
      ]
    },
    {
      "cell_type": "code",
      "source": [
        "!pip install -qU langchain langchain_community langchain_google_genai"
      ],
      "metadata": {
        "id": "S2eeYZHZ0Vb6"
      },
      "execution_count": 15,
      "outputs": []
    },
    {
      "cell_type": "code",
      "source": [
        "import os\n",
        "from typing import Dict, Any\n",
        "from langchain_google_genai import ChatGoogleGenerativeAI\n",
        "from langchain.agents import tool\n",
        "from langchain.agents import AgentExecutor\n",
        "from langchain.memory import ConversationBufferMemory\n",
        "from langchain.chains import ConversationChain\n",
        "from langchain.agents.openai_functions_agent.base import OpenAIFunctionsAgent\n",
        "from langchain.prompts import MessagesPlaceholder\n",
        "from langchain.schema.messages import SystemMessage\n",
        "from dotenv import load_dotenv\n",
        "from typing import Any\n",
        "from langchain.tools import BaseTool"
      ],
      "metadata": {
        "id": "NUD39k7f0b1p"
      },
      "execution_count": 16,
      "outputs": []
    },
    {
      "cell_type": "code",
      "source": [
        "# Load environment variables\n",
        "load_dotenv()\n",
        "GOOGLE_API_KEY = os.getenv('GOOGLE_API_KEY')"
      ],
      "metadata": {
        "id": "YsOAqXuJ0h2u"
      },
      "execution_count": 17,
      "outputs": []
    },
    {
      "cell_type": "code",
      "source": [
        "class Calculator:\n",
        "    \"\"\"Base Calculator class for arithmetic operations\"\"\"\n",
        "    def calculate(self, expression: str) -> str:\n",
        "        try:\n",
        "            # Define safe operations\n",
        "            safe_dict = {\n",
        "                'abs': abs,\n",
        "                'float': float,\n",
        "                'int': int,\n",
        "                'max': max,\n",
        "                'min': min,\n",
        "                'pow': pow,\n",
        "                'round': round\n",
        "            }\n",
        "\n",
        "            # Clean the expression\n",
        "            cleaned_expr = ''.join(c for c in expression if c in '0123456789.+-*/() ')\n",
        "\n",
        "            # Evaluate using safe dictionary\n",
        "            result = eval(cleaned_expr, {\"__builtins__\": None}, safe_dict)\n",
        "            return str(result)\n",
        "        except Exception as e:\n",
        "            return f\"Error: Invalid expression - {str(e)}\""
      ],
      "metadata": {
        "id": "AeHCOlHm0o3b"
      },
      "execution_count": 18,
      "outputs": []
    },
    {
      "source": [
        "from typing import Any, Dict\n",
        "\n",
        "from langchain.tools import BaseTool\n",
        "\n",
        "class Calculator:\n",
        "    \"\"\"Base Calculator class for arithmetic operations\"\"\"\n",
        "    def calculate(self, expression: str) -> str:\n",
        "        try:\n",
        "            # Define safe operations\n",
        "            safe_dict = {\n",
        "                'abs': abs,\n",
        "                'float': float,\n",
        "                'int': int,\n",
        "                'max': max,\n",
        "                'min': min,\n",
        "                'pow': pow,\n",
        "                'round': round\n",
        "            }\n",
        "\n",
        "            # Clean the expression\n",
        "            cleaned_expr = ''.join(c for c in expression if c in '0123456789.+-*/() ')\n",
        "\n",
        "            # Evaluate using safe dictionary\n",
        "            result = eval(cleaned_expr, {\"__builtins__\": None}, safe_dict)\n",
        "            return str(result)\n",
        "        except Exception as e:\n",
        "            return f\"Error: Invalid expression - {str(e)}\"\n",
        "\n",
        "class CalculatorTool(BaseTool):\n",
        "    \"\"\"Calculator tool for LangChain\"\"\"\n",
        "    name: str = \"calculator\"  # Added type annotation here\n",
        "    description: str = \"Useful for performing arithmetic calculations. Input should be a mathematical expression as a string.\"  # Added type annotation here\n",
        "\n",
        "    def _run(self, expression: str) -> str:\n",
        "        \"\"\"Execute the calculator tool\"\"\"\n",
        "        calc = Calculator()\n",
        "        return calc.calculate(expression)\n",
        "\n",
        "    def _arun(self, expression: str) -> str:\n",
        "        \"\"\"Async version of the tool (not implemented)\"\"\"\n",
        "        raise NotImplementedError(\"CalculatorTool does not support async\")"
      ],
      "cell_type": "code",
      "metadata": {
        "id": "OYVTqaO61b1R"
      },
      "execution_count": 19,
      "outputs": []
    },
    {
      "source": [
        "def setup_agent():\n",
        "    \"\"\"Set up the LangChain agent with the calculator tool\"\"\"\n",
        "    # Initialize LLM\n",
        "    llm = ChatGoogleGenerativeAI(\n",
        "        model=\"gemini-pro\",\n",
        "        google_api_key=GOOGLE_API_KEY,\n",
        "        temperature=0\n",
        "    )\n",
        "\n",
        "    # Assuming these variables are defined somewhere before this function call\n",
        "    tools = [CalculatorTool()]  # Example definition of tools\n",
        "    system_message = SystemMessage(content=\"You are a helpful AI assistant.\")  # Example system message\n",
        "\n",
        "    # Create prompt\n",
        "    prompt = OpenAIFunctionsAgent.create_prompt(\n",
        "        system_message=system_message,\n",
        "        extra_prompt_messages=[MessagesPlaceholder(variable_name=\"memory\")]\n",
        "    )\n",
        "    # Initialize memory\n",
        "    memory = ConversationBufferMemory(memory_key=\"memory\", return_messages=True)\n",
        "\n",
        "    # Create agent\n",
        "    agent = OpenAIFunctionsAgent(llm=llm, tools=tools, prompt=prompt)\n",
        "\n",
        "    return agent # Added return statement to return the agent"
      ],
      "cell_type": "code",
      "metadata": {
        "id": "rCXJfp2G1w-N"
      },
      "execution_count": 20,
      "outputs": []
    },
    {
      "source": [
        "def setup_agent_executor(agent, tools, memory):  # New function to wrap the agent executor setup\n",
        "    \"\"\"Set up and return the LangChain agent executor\"\"\"\n",
        "    return AgentExecutor(\n",
        "        agent=agent,\n",
        "        tools=tools,\n",
        "        memory=memory,\n",
        "        verbose=True\n",
        "    )"
      ],
      "cell_type": "code",
      "metadata": {
        "id": "GV7Z5rA319cu"
      },
      "execution_count": 21,
      "outputs": []
    },
    {
      "cell_type": "code",
      "source": [
        "def run_test_queries():\n",
        "    \"\"\"Run test queries on the calculator agent\"\"\"\n",
        "    # Initialize agent\n",
        "    agent_executor = setup_agent()\n",
        "\n",
        "    # Run queries\n",
        "    test_queries = [\"What is 2 plus 2?\", \"Calculate 10 minus 5.\", \"What is the square root of 9?\"]\n",
        "    for query in test_queries:\n",
        "        print(\"\\nQuery:\", query)\n",
        "        try:\n",
        "            response = agent_executor.run(query)\n",
        "            print(\"Response:\", response)\n",
        "        except Exception as e:\n",
        "            print(f\"Error processing query: {str(e)}\")\n",
        "        print(\"-\" * 40)\n",
        "\n",
        "if __name__ == \"__main__\":\n",
        "    run_test_queries()"
      ],
      "metadata": {
        "colab": {
          "base_uri": "https://localhost:8080/"
        },
        "collapsed": true,
        "id": "LK-yROed1_aO",
        "outputId": "7480bff1-abe7-4c91-d01e-d46b86f61f5c"
      },
      "execution_count": 23,
      "outputs": [
        {
          "output_type": "stream",
          "name": "stdout",
          "text": [
            "\n",
            "Query: What is 2 plus 2?\n",
            "Error processing query: 'OpenAIFunctionsAgent' object has no attribute 'run'\n",
            "----------------------------------------\n",
            "\n",
            "Query: Calculate 10 minus 5.\n",
            "Error processing query: 'OpenAIFunctionsAgent' object has no attribute 'run'\n",
            "----------------------------------------\n",
            "\n",
            "Query: What is the square root of 9?\n",
            "Error processing query: 'OpenAIFunctionsAgent' object has no attribute 'run'\n",
            "----------------------------------------\n"
          ]
        }
      ]
    },
    {
      "cell_type": "code",
      "source": [],
      "metadata": {
        "id": "p-EWJ_TV14LS"
      },
      "execution_count": null,
      "outputs": []
    }
  ]
}