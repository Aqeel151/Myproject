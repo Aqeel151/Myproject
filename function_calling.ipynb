{
  "cells": [
    {
      "cell_type": "markdown",
      "metadata": {
        "id": "view-in-github",
        "colab_type": "text"
      },
      "source": [
        "<a href=\"https://colab.research.google.com/github/Aqeel151/Myproject/blob/master/function_calling.ipynb\" target=\"_parent\"><img src=\"https://colab.research.google.com/assets/colab-badge.svg\" alt=\"Open In Colab\"/></a>"
      ]
    },
    {
      "cell_type": "code",
      "execution_count": null,
      "metadata": {
        "colab": {
          "base_uri": "https://localhost:8080/"
        },
        "collapsed": true,
        "id": "n00AqZIF0K7L",
        "outputId": "ed3c73e1-eaaa-4ba3-e384-9ec9cacbc6a7"
      },
      "outputs": [
        {
          "output_type": "stream",
          "name": "stdout",
          "text": [
            "\u001b[2K   \u001b[90m━━━━━━━━━━━━━━━━━━━━━━━━━━━━━━━━━━━━━━━━\u001b[0m \u001b[32m2.5/2.5 MB\u001b[0m \u001b[31m28.7 MB/s\u001b[0m eta \u001b[36m0:00:00\u001b[0m\n",
            "\u001b[2K   \u001b[90m━━━━━━━━━━━━━━━━━━━━━━━━━━━━━━━━━━━━━━━━\u001b[0m \u001b[32m41.5/41.5 kB\u001b[0m \u001b[31m2.7 MB/s\u001b[0m eta \u001b[36m0:00:00\u001b[0m\n",
            "\u001b[2K   \u001b[90m━━━━━━━━━━━━━━━━━━━━━━━━━━━━━━━━━━━━━━━━\u001b[0m \u001b[32m49.6/49.6 kB\u001b[0m \u001b[31m3.5 MB/s\u001b[0m eta \u001b[36m0:00:00\u001b[0m\n",
            "\u001b[?25h"
          ]
        }
      ],
      "source": [
        "!pip install -qU langchain langchain_community langchain_google_genai"
      ]
    },
    {
      "cell_type": "code",
      "execution_count": null,
      "metadata": {
        "id": "rbnjuid-57jP"
      },
      "outputs": [],
      "source": [
        "from google.colab import userdata\n",
        "import os\n",
        "\n",
        "os.environ['GOOGLE_API_KEY'] = userdata.get('GOOGLE_API_KEY')\n"
      ]
    },
    {
      "cell_type": "code",
      "execution_count": null,
      "metadata": {
        "colab": {
          "base_uri": "https://localhost:8080/"
        },
        "id": "CKv537eq5ut3",
        "outputId": "e127b209-6ce3-4aa9-d38c-70c8c6a6bcc1"
      },
      "outputs": [
        {
          "output_type": "execute_result",
          "data": {
            "text/plain": [
              "AIMessage(content=\"Pakistan is situated in South Asia, bordering India to the east, Afghanistan to the west, Iran to the southwest, and China to the north.  It also has a coastline along the Arabian Sea to the south.\\n\\nDescribing how people live in Pakistan is complex, as it's a diverse country with significant regional variations in culture, lifestyle, and socioeconomic conditions.  There's no single answer.  However, some general observations can be made:\\n\\n* **Diverse Population:** Pakistan has a large and diverse population with different ethnic groups, languages, and religious beliefs.  The majority of the population is Muslim, but there are also significant minorities of Christians, Hindus, and others.  Major ethnic groups include Punjabis, Sindhis, Pashtuns, Balochs, and Muhajirs.  This diversity leads to a wide range of cultural practices and traditions.\\n\\n* **Urban vs. Rural Life:**  A significant portion of the population lives in urban areas, with large cities like Karachi, Lahore, Islamabad, and Peshawar serving as major economic and cultural hubs.  Rural life, however, is vastly different, with agriculture playing a dominant role in the economy and daily life.  Access to resources and opportunities varies greatly between urban and rural settings.\\n\\n* **Economy:** Pakistan's economy is a mix of agriculture, industry, and services.  Agriculture is a major employer, particularly in rural areas, while industrial and service sectors are more prominent in urban centers.  The economy faces challenges, including poverty, inequality, and infrastructure limitations.\\n\\n* **Social Issues:**  Like many countries, Pakistan faces various social issues such as poverty, illiteracy, gender inequality, and health challenges.  These issues disproportionately affect marginalized communities.\\n\\n* **Lifestyle:**  Lifestyle varies greatly depending on socioeconomic status, location, and cultural background.  While some Pakistanis live in relative comfort and have access to modern amenities, many others face significant economic hardship.\\n\\n\\nTo get a more nuanced understanding of how people live in Pakistan, it's essential to specify a region or community and delve into its particular characteristics.  Generalizations about such a diverse nation can be misleading.\", additional_kwargs={}, response_metadata={'prompt_feedback': {'block_reason': 0, 'safety_ratings': []}, 'finish_reason': 'STOP', 'safety_ratings': []}, id='run-3ff8bc6c-d0a0-4895-bf2e-351367a06267-0', usage_metadata={'input_tokens': 14, 'output_tokens': 438, 'total_tokens': 452, 'input_token_details': {'cache_read': 0}})"
            ]
          },
          "metadata": {},
          "execution_count": 10
        }
      ],
      "source": [
        "from langchain_google_genai import ChatGoogleGenerativeAI\n",
        "\n",
        "llm=ChatGoogleGenerativeAI(model='gemini-1.5-flash',verbose=True)\n",
        "\n",
        "llm.invoke(\"Where is Country Pakiatan Situated and how pepole lived there\")"
      ]
    },
    {
      "cell_type": "code",
      "execution_count": null,
      "metadata": {
        "id": "x7oQfEG842f6"
      },
      "outputs": [],
      "source": [
        "from langchain_core.tools import tool\n",
        "\n",
        "@tool\n",
        "def multiply(a: int, b: int) -> int:\n",
        "    \"\"\"Multiply a and b.\n",
        "\n",
        "    Args:\n",
        "        a: first int\n",
        "        b: second int\n",
        "    \"\"\"\n",
        "    return a * b\n",
        "\n",
        "llm_with_tools = llm.bind_tools([multiply])\n"
      ]
    },
    {
      "cell_type": "code",
      "execution_count": null,
      "metadata": {
        "id": "TVplGb296KG4"
      },
      "outputs": [],
      "source": [
        "tools_list=[multiply]\n",
        "model_with_tools = llm.bind_tools(tools_list)"
      ]
    },
    {
      "cell_type": "code",
      "execution_count": null,
      "metadata": {
        "colab": {
          "base_uri": "https://localhost:8080/"
        },
        "id": "Xt6IH0NR6RQv",
        "outputId": "9e8f28dd-552a-45bb-a597-402f73b0956a"
      },
      "outputs": [
        {
          "output_type": "execute_result",
          "data": {
            "text/plain": [
              "AIMessage(content=\"I'm doing well, thank you for asking! How are you today?\", additional_kwargs={}, response_metadata={'prompt_feedback': {'block_reason': 0, 'safety_ratings': []}, 'finish_reason': 'STOP', 'safety_ratings': []}, id='run-3d7ca9d2-61ae-4356-9a26-b2ede989e0cb-0', usage_metadata={'input_tokens': 68, 'output_tokens': 17, 'total_tokens': 85, 'input_token_details': {'cache_read': 0}})"
            ]
          },
          "metadata": {},
          "execution_count": 16
        }
      ],
      "source": [
        "result = llm_with_tools.invoke(\"Hey how are you!\")\n",
        "result"
      ]
    },
    {
      "cell_type": "code",
      "execution_count": null,
      "metadata": {
        "colab": {
          "base_uri": "https://localhost:8080/"
        },
        "id": "M4EIRuwmAqLS",
        "outputId": "77c41747-e23f-452a-ec2f-1bc455a5eff4"
      },
      "outputs": [
        {
          "output_type": "execute_result",
          "data": {
            "text/plain": [
              "AIMessage(content='', additional_kwargs={'function_call': {'name': 'multiply', 'arguments': '{\"a\": 2.0, \"b\": 3.0}'}}, response_metadata={'prompt_feedback': {'block_reason': 0, 'safety_ratings': []}, 'finish_reason': 'STOP', 'safety_ratings': []}, id='run-553b6eb6-b035-4d8a-987c-63d1e440171a-0', tool_calls=[{'name': 'multiply', 'args': {'a': 2.0, 'b': 3.0}, 'id': 'cd98157a-d82c-4c3b-844d-df44be523a72', 'type': 'tool_call'}], usage_metadata={'input_tokens': 72, 'output_tokens': 3, 'total_tokens': 75, 'input_token_details': {'cache_read': 0}})"
            ]
          },
          "metadata": {},
          "execution_count": 17
        }
      ],
      "source": [
        "result = llm_with_tools.invoke(\"What is 2 multiplied by 3?\")\n",
        "result\n"
      ]
    },
    {
      "cell_type": "code",
      "execution_count": null,
      "metadata": {
        "id": "kEj_SgsZ60FG"
      },
      "outputs": [],
      "source": [
        "from langchain.tools import Tool\n",
        "\n",
        "# Example tool for addition\n",
        "def add_numbers(a, b):\n",
        "    return a * b\n",
        "\n",
        "math_tool = Tool(\n",
        "    name=\"AdditionTool\",\n",
        "    func=lambda x: f\"The result is: {add_numbers(*map(int, x.split()))}\",\n",
        "    description=\"Adds two numbers. Input should be two integers separated by a space.\"\n",
        ")\n"
      ]
    },
    {
      "cell_type": "code",
      "execution_count": null,
      "metadata": {
        "id": "Ro5skDYCIKWw"
      },
      "outputs": [],
      "source": [
        "from langchain.agents import initialize_agent, AgentType\n",
        "\n",
        "# List of tools\n",
        "tools = [math_tool]\n",
        "\n",
        "# Initialize the agent\n",
        "agent = initialize_agent(\n",
        "    tools=tools,                        # Provide the tools\n",
        "    llm=llm,                            # LLM for fallback\n",
        "    agent=AgentType.ZERO_SHOT_REACT_DESCRIPTION,  # Agent type\n",
        "    verbose=True                        # Enable debugging output\n",
        ")\n"
      ]
    },
    {
      "cell_type": "code",
      "execution_count": null,
      "metadata": {
        "colab": {
          "base_uri": "https://localhost:8080/"
        },
        "id": "PlWvwNqVIO5Y",
        "outputId": "a897e2d2-aeb9-4da2-cd60-c7b794a33efb"
      },
      "outputs": [
        {
          "output_type": "stream",
          "name": "stdout",
          "text": [
            "\n",
            "\n",
            "\u001b[1m> Entering new AgentExecutor chain...\u001b[0m\n",
            "\u001b[32;1m\u001b[1;3mQuestion: What is 10 * 10?\n",
            "Thought: I need to multiply 10 by 10. I can do this by repeatedly adding 10 ten times.\n",
            "Action: AdditionTool\n",
            "Action Input: 10 10\u001b[0m\n",
            "Observation: \u001b[36;1m\u001b[1;3mThe result is: 100\u001b[0m\n",
            "Thought:\u001b[32;1m\u001b[1;3mQuestion: What is 10 * 10?\n",
            "Thought: I need to multiply 10 by 10. I can do this by repeatedly adding 10 ten times.  I'll use the AdditionTool nine more times.\n",
            "Action: AdditionTool\n",
            "Action Input: 10 10\u001b[0m\n",
            "Observation: \u001b[36;1m\u001b[1;3mThe result is: 100\u001b[0m\n",
            "Thought:\u001b[32;1m\u001b[1;3mQuestion: What is 10 * 10?\n",
            "Thought: I need to multiply 10 by 10. I can do this by repeatedly adding 10 ten times.  I will use the AdditionTool to add 10 to the running total nine more times.  I'll start with a running total of 100 from the first addition.\n",
            "Action: AdditionTool\n",
            "Action Input: 100 10\u001b[0m\n",
            "Observation: \u001b[36;1m\u001b[1;3mThe result is: 1000\u001b[0m\n",
            "Thought:\u001b[32;1m\u001b[1;3mQuestion: What is 10 * 10?\n",
            "Thought: I need to multiply 10 by 10. I can do this by repeatedly adding 10 ten times.\n",
            "Action: AdditionTool\n",
            "Action Input: 10 10\u001b[0m\n",
            "Observation: \u001b[36;1m\u001b[1;3mThe result is: 100\u001b[0m\n",
            "Thought:\u001b[32;1m\u001b[1;3mQuestion: What is 10 * 10?\n",
            "Thought: I need to multiply 10 by 10. I can do this by repeatedly adding 10 ten times.  This is inefficient.  I'll try a different approach.  I know 10 * 10 = 100.\n",
            "Thought: I now know the final answer\n",
            "Final Answer: 100\u001b[0m\n",
            "\n",
            "\u001b[1m> Finished chain.\u001b[0m\n",
            "100\n"
          ]
        }
      ],
      "source": [
        "# Query the agent\n",
        "response1 = agent.run(\"What is 10 * 10?\")  # Uses the tool\n",
        "print(response1)\n",
        "\n"
      ]
    }
  ],
  "metadata": {
    "colab": {
      "provenance": [],
      "include_colab_link": true
    },
    "kernelspec": {
      "display_name": "Python 3",
      "name": "python3"
    },
    "language_info": {
      "name": "python"
    }
  },
  "nbformat": 4,
  "nbformat_minor": 0
}